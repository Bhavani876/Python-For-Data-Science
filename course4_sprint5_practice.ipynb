{
 "cells": [
  {
   "cell_type": "code",
   "execution_count": 2,
   "id": "f41a008e",
   "metadata": {},
   "outputs": [],
   "source": [
    "import pandas as pd\n",
    "import matplotlib.pyplot  as plt"
   ]
  },
  {
   "cell_type": "code",
   "execution_count": 3,
   "id": "224c69c8",
   "metadata": {},
   "outputs": [
    {
     "data": {
      "text/html": [
       "<div>\n",
       "<style scoped>\n",
       "    .dataframe tbody tr th:only-of-type {\n",
       "        vertical-align: middle;\n",
       "    }\n",
       "\n",
       "    .dataframe tbody tr th {\n",
       "        vertical-align: top;\n",
       "    }\n",
       "\n",
       "    .dataframe thead th {\n",
       "        text-align: right;\n",
       "    }\n",
       "</style>\n",
       "<table border=\"1\" class=\"dataframe\">\n",
       "  <thead>\n",
       "    <tr style=\"text-align: right;\">\n",
       "      <th></th>\n",
       "      <th>Employee_Code</th>\n",
       "      <th>Gender</th>\n",
       "      <th>Department</th>\n",
       "      <th>Annual Salary ($)</th>\n",
       "      <th>Age</th>\n",
       "      <th>Work_Experience</th>\n",
       "    </tr>\n",
       "  </thead>\n",
       "  <tbody>\n",
       "    <tr>\n",
       "      <th>0</th>\n",
       "      <td>1010</td>\n",
       "      <td>Male</td>\n",
       "      <td>IT</td>\n",
       "      <td>27000</td>\n",
       "      <td>22</td>\n",
       "      <td>0</td>\n",
       "    </tr>\n",
       "    <tr>\n",
       "      <th>1</th>\n",
       "      <td>1011</td>\n",
       "      <td>Female</td>\n",
       "      <td>IT</td>\n",
       "      <td>48000</td>\n",
       "      <td>27</td>\n",
       "      <td>4</td>\n",
       "    </tr>\n",
       "    <tr>\n",
       "      <th>2</th>\n",
       "      <td>1012</td>\n",
       "      <td>Male</td>\n",
       "      <td>Sales</td>\n",
       "      <td>75000</td>\n",
       "      <td>31</td>\n",
       "      <td>7</td>\n",
       "    </tr>\n",
       "    <tr>\n",
       "      <th>3</th>\n",
       "      <td>1013</td>\n",
       "      <td>Male</td>\n",
       "      <td>Sales</td>\n",
       "      <td>61000</td>\n",
       "      <td>29</td>\n",
       "      <td>6</td>\n",
       "    </tr>\n",
       "    <tr>\n",
       "      <th>4</th>\n",
       "      <td>1014</td>\n",
       "      <td>Female</td>\n",
       "      <td>Finance</td>\n",
       "      <td>45000</td>\n",
       "      <td>27</td>\n",
       "      <td>4</td>\n",
       "    </tr>\n",
       "    <tr>\n",
       "      <th>...</th>\n",
       "      <td>...</td>\n",
       "      <td>...</td>\n",
       "      <td>...</td>\n",
       "      <td>...</td>\n",
       "      <td>...</td>\n",
       "      <td>...</td>\n",
       "    </tr>\n",
       "    <tr>\n",
       "      <th>65</th>\n",
       "      <td>1074</td>\n",
       "      <td>Female</td>\n",
       "      <td>HR</td>\n",
       "      <td>82500</td>\n",
       "      <td>43</td>\n",
       "      <td>13</td>\n",
       "    </tr>\n",
       "    <tr>\n",
       "      <th>66</th>\n",
       "      <td>1075</td>\n",
       "      <td>Male</td>\n",
       "      <td>Sales</td>\n",
       "      <td>53500</td>\n",
       "      <td>28</td>\n",
       "      <td>5</td>\n",
       "    </tr>\n",
       "    <tr>\n",
       "      <th>67</th>\n",
       "      <td>1076</td>\n",
       "      <td>Female</td>\n",
       "      <td>HR</td>\n",
       "      <td>57000</td>\n",
       "      <td>29</td>\n",
       "      <td>6</td>\n",
       "    </tr>\n",
       "    <tr>\n",
       "      <th>68</th>\n",
       "      <td>1077</td>\n",
       "      <td>Male</td>\n",
       "      <td>Sales</td>\n",
       "      <td>66500</td>\n",
       "      <td>33</td>\n",
       "      <td>7</td>\n",
       "    </tr>\n",
       "    <tr>\n",
       "      <th>69</th>\n",
       "      <td>1078</td>\n",
       "      <td>Male</td>\n",
       "      <td>Finance</td>\n",
       "      <td>92000</td>\n",
       "      <td>45</td>\n",
       "      <td>19</td>\n",
       "    </tr>\n",
       "  </tbody>\n",
       "</table>\n",
       "<p>70 rows × 6 columns</p>\n",
       "</div>"
      ],
      "text/plain": [
       "    Employee_Code   Gender Department  Annual Salary ($)  Age  Work_Experience\n",
       "0             1010    Male        IT               27000   22                0\n",
       "1             1011  Female        IT               48000   27                4\n",
       "2             1012    Male      Sales              75000   31                7\n",
       "3             1013    Male      Sales              61000   29                6\n",
       "4             1014  Female    Finance              45000   27                4\n",
       "..             ...     ...        ...                ...  ...              ...\n",
       "65            1074  Female         HR              82500   43               13\n",
       "66            1075    Male      Sales              53500   28                5\n",
       "67            1076  Female         HR              57000   29                6\n",
       "68            1077    Male      Sales              66500   33                7\n",
       "69            1078    Male    Finance              92000   45               19\n",
       "\n",
       "[70 rows x 6 columns]"
      ]
     },
     "execution_count": 3,
     "metadata": {},
     "output_type": "execute_result"
    }
   ],
   "source": [
    "df=pd.read_excel(\"DS1_C4_S5_Employee_Data_Practice.xlsx\")\n",
    "df"
   ]
  },
  {
   "cell_type": "code",
   "execution_count": 4,
   "id": "0ffb847b",
   "metadata": {},
   "outputs": [
    {
     "data": {
      "text/plain": [
       "Index(['Employee_Code ', 'Gender', 'Department', 'Annual Salary ($)', 'Age',\n",
       "       'Work_Experience'],\n",
       "      dtype='object')"
      ]
     },
     "execution_count": 4,
     "metadata": {},
     "output_type": "execute_result"
    }
   ],
   "source": [
    "df.columns"
   ]
  },
  {
   "cell_type": "markdown",
   "id": "e96600b7",
   "metadata": {},
   "source": [
    "# task 1"
   ]
  },
  {
   "cell_type": "code",
   "execution_count": 44,
   "id": "9304f118",
   "metadata": {},
   "outputs": [
    {
     "data": {
      "text/plain": [
       "Department\n",
       "Finance     790000\n",
       "HR          987000\n",
       "IT         1282900\n",
       "Sales      1089000\n",
       "Name: Annual Salary ($), dtype: int64"
      ]
     },
     "execution_count": 44,
     "metadata": {},
     "output_type": "execute_result"
    }
   ],
   "source": [
    "t1=df.groupby(['Department'])['Annual Salary ($)'].sum()\n",
    "t1"
   ]
  },
  {
   "cell_type": "code",
   "execution_count": 17,
   "id": "f83f5437",
   "metadata": {},
   "outputs": [
    {
     "data": {
      "text/plain": [
       "Index(['Finance', 'HR', 'IT ', 'Sales'], dtype='object', name='Department')"
      ]
     },
     "execution_count": 17,
     "metadata": {},
     "output_type": "execute_result"
    }
   ],
   "source": [
    "t1.index"
   ]
  },
  {
   "cell_type": "code",
   "execution_count": 11,
   "id": "ccea6796",
   "metadata": {},
   "outputs": [
    {
     "data": {
      "text/plain": [
       "array([ 790000,  987000, 1282900, 1089000], dtype=int64)"
      ]
     },
     "execution_count": 11,
     "metadata": {},
     "output_type": "execute_result"
    }
   ],
   "source": [
    "t1.values"
   ]
  },
  {
   "cell_type": "code",
   "execution_count": 20,
   "id": "85f60f8a",
   "metadata": {},
   "outputs": [],
   "source": [
    "x=['Finance', 'HR', 'IT ', 'Sales']\n",
    "y=[ 790000,  987000, 1282900, 1089000]"
   ]
  },
  {
   "cell_type": "code",
   "execution_count": 24,
   "id": "62705050",
   "metadata": {},
   "outputs": [
    {
     "data": {
      "text/plain": [
       "Text(0, 0.5, 'Annual Salary')"
      ]
     },
     "execution_count": 24,
     "metadata": {},
     "output_type": "execute_result"
    },
    {
     "data": {
      "image/png": "[encoded data removed]",
      "text/plain": [
       "<Figure size 640x480 with 1 Axes>"
      ]
     },
     "metadata": {},
     "output_type": "display_data"
    }
   ],
   "source": [
    "plt.bar(x,y)\n",
    "plt.title('Bar Graph')\n",
    "plt.xlabel('Department')\n",
    "plt.ylabel('Annual Salary')"
   ]
  },
  {
   "cell_type": "code",
   "execution_count": null,
   "id": "74dfb31f",
   "metadata": {},
   "outputs": [],
   "source": [
    "# Department-wise sum of annaul salary."
   ]
  },
  {
   "cell_type": "markdown",
   "id": "fb811f45",
   "metadata": {},
   "source": [
    "# task 2"
   ]
  },
  {
   "cell_type": "code",
   "execution_count": 28,
   "id": "59dd314f",
   "metadata": {},
   "outputs": [
    {
     "data": {
      "text/html": [
       "<div>\n",
       "<style scoped>\n",
       "    .dataframe tbody tr th:only-of-type {\n",
       "        vertical-align: middle;\n",
       "    }\n",
       "\n",
       "    .dataframe tbody tr th {\n",
       "        vertical-align: top;\n",
       "    }\n",
       "\n",
       "    .dataframe thead th {\n",
       "        text-align: right;\n",
       "    }\n",
       "</style>\n",
       "<table border=\"1\" class=\"dataframe\">\n",
       "  <thead>\n",
       "    <tr style=\"text-align: right;\">\n",
       "      <th>Gender</th>\n",
       "      <th>Female</th>\n",
       "      <th>Male</th>\n",
       "    </tr>\n",
       "    <tr>\n",
       "      <th>Department</th>\n",
       "      <th></th>\n",
       "      <th></th>\n",
       "    </tr>\n",
       "  </thead>\n",
       "  <tbody>\n",
       "    <tr>\n",
       "      <th>Finance</th>\n",
       "      <td>2</td>\n",
       "      <td>11</td>\n",
       "    </tr>\n",
       "    <tr>\n",
       "      <th>HR</th>\n",
       "      <td>11</td>\n",
       "      <td>4</td>\n",
       "    </tr>\n",
       "    <tr>\n",
       "      <th>IT</th>\n",
       "      <td>10</td>\n",
       "      <td>12</td>\n",
       "    </tr>\n",
       "    <tr>\n",
       "      <th>Sales</th>\n",
       "      <td>4</td>\n",
       "      <td>16</td>\n",
       "    </tr>\n",
       "  </tbody>\n",
       "</table>\n",
       "</div>"
      ],
      "text/plain": [
       "Gender      Female  Male\n",
       "Department              \n",
       "Finance          2    11\n",
       "HR              11     4\n",
       "IT              10    12\n",
       "Sales            4    16"
      ]
     },
     "execution_count": 28,
     "metadata": {},
     "output_type": "execute_result"
    }
   ],
   "source": [
    "t2=pd.crosstab(index=df['Department'],columns=df['Gender'])\n",
    "t2"
   ]
  },
  {
   "cell_type": "code",
   "execution_count": 38,
   "id": "a5bc608c",
   "metadata": {},
   "outputs": [
    {
     "data": {
      "text/plain": [
       "Index(['Female', 'Male'], dtype='object', name='Gender')"
      ]
     },
     "execution_count": 38,
     "metadata": {},
     "output_type": "execute_result"
    }
   ],
   "source": [
    "t2.columns\n"
   ]
  },
  {
   "cell_type": "code",
   "execution_count": 42,
   "id": "72e1be08",
   "metadata": {},
   "outputs": [
    {
     "data": {
      "image/png": "[encoded data removed]",
      "text/plain": [
       "<Figure size 640x480 with 1 Axes>"
      ]
     },
     "metadata": {},
     "output_type": "display_data"
    }
   ],
   "source": [
    "t2.plot(kind='bar')\n",
    "plt.show()"
   ]
  },
  {
   "cell_type": "code",
   "execution_count": null,
   "id": "10779fc9",
   "metadata": {},
   "outputs": [],
   "source": [
    "# Department and gender-wise count of employees."
   ]
  },
  {
   "cell_type": "markdown",
   "id": "bec567d2",
   "metadata": {},
   "source": [
    "# task 3"
   ]
  },
  {
   "cell_type": "code",
   "execution_count": 103,
   "id": "088c17e5",
   "metadata": {},
   "outputs": [
    {
     "data": {
      "text/html": [
       "<div>\n",
       "<style scoped>\n",
       "    .dataframe tbody tr th:only-of-type {\n",
       "        vertical-align: middle;\n",
       "    }\n",
       "\n",
       "    .dataframe tbody tr th {\n",
       "        vertical-align: top;\n",
       "    }\n",
       "\n",
       "    .dataframe thead th {\n",
       "        text-align: right;\n",
       "    }\n",
       "</style>\n",
       "<table border=\"1\" class=\"dataframe\">\n",
       "  <thead>\n",
       "    <tr style=\"text-align: right;\">\n",
       "      <th></th>\n",
       "      <th>Employee_Code</th>\n",
       "      <th>Gender</th>\n",
       "      <th>Department</th>\n",
       "      <th>Annual Salary ($)</th>\n",
       "      <th>Age</th>\n",
       "      <th>Work_Experience</th>\n",
       "    </tr>\n",
       "  </thead>\n",
       "  <tbody>\n",
       "    <tr>\n",
       "      <th>0</th>\n",
       "      <td>1010</td>\n",
       "      <td>Male</td>\n",
       "      <td>IT</td>\n",
       "      <td>27000</td>\n",
       "      <td>22</td>\n",
       "      <td>0</td>\n",
       "    </tr>\n",
       "    <tr>\n",
       "      <th>1</th>\n",
       "      <td>1011</td>\n",
       "      <td>Female</td>\n",
       "      <td>IT</td>\n",
       "      <td>48000</td>\n",
       "      <td>27</td>\n",
       "      <td>4</td>\n",
       "    </tr>\n",
       "    <tr>\n",
       "      <th>2</th>\n",
       "      <td>1012</td>\n",
       "      <td>Male</td>\n",
       "      <td>Sales</td>\n",
       "      <td>75000</td>\n",
       "      <td>31</td>\n",
       "      <td>7</td>\n",
       "    </tr>\n",
       "    <tr>\n",
       "      <th>3</th>\n",
       "      <td>1013</td>\n",
       "      <td>Male</td>\n",
       "      <td>Sales</td>\n",
       "      <td>61000</td>\n",
       "      <td>29</td>\n",
       "      <td>6</td>\n",
       "    </tr>\n",
       "    <tr>\n",
       "      <th>4</th>\n",
       "      <td>1014</td>\n",
       "      <td>Female</td>\n",
       "      <td>Finance</td>\n",
       "      <td>45000</td>\n",
       "      <td>27</td>\n",
       "      <td>4</td>\n",
       "    </tr>\n",
       "  </tbody>\n",
       "</table>\n",
       "</div>"
      ],
      "text/plain": [
       "   Employee_Code   Gender Department  Annual Salary ($)  Age  Work_Experience\n",
       "0            1010    Male        IT               27000   22                0\n",
       "1            1011  Female        IT               48000   27                4\n",
       "2            1012    Male      Sales              75000   31                7\n",
       "3            1013    Male      Sales              61000   29                6\n",
       "4            1014  Female    Finance              45000   27                4"
      ]
     },
     "execution_count": 103,
     "metadata": {},
     "output_type": "execute_result"
    }
   ],
   "source": [
    "df.head()"
   ]
  },
  {
   "cell_type": "code",
   "execution_count": 64,
   "id": "d656ab22",
   "metadata": {},
   "outputs": [
    {
     "data": {
      "text/html": [
       "<div>\n",
       "<style scoped>\n",
       "    .dataframe tbody tr th:only-of-type {\n",
       "        vertical-align: middle;\n",
       "    }\n",
       "\n",
       "    .dataframe tbody tr th {\n",
       "        vertical-align: top;\n",
       "    }\n",
       "\n",
       "    .dataframe thead th {\n",
       "        text-align: right;\n",
       "    }\n",
       "</style>\n",
       "<table border=\"1\" class=\"dataframe\">\n",
       "  <thead>\n",
       "    <tr style=\"text-align: right;\">\n",
       "      <th></th>\n",
       "      <th>Employee_Code</th>\n",
       "      <th>Gender</th>\n",
       "      <th>Department</th>\n",
       "      <th>Annual Salary ($)</th>\n",
       "      <th>Age</th>\n",
       "      <th>Work_Experience</th>\n",
       "    </tr>\n",
       "  </thead>\n",
       "  <tbody>\n",
       "    <tr>\n",
       "      <th>0</th>\n",
       "      <td>1010</td>\n",
       "      <td>Male</td>\n",
       "      <td>IT</td>\n",
       "      <td>27000</td>\n",
       "      <td>22</td>\n",
       "      <td>0</td>\n",
       "    </tr>\n",
       "    <tr>\n",
       "      <th>7</th>\n",
       "      <td>1017</td>\n",
       "      <td>Male</td>\n",
       "      <td>IT</td>\n",
       "      <td>28000</td>\n",
       "      <td>23</td>\n",
       "      <td>0</td>\n",
       "    </tr>\n",
       "    <tr>\n",
       "      <th>12</th>\n",
       "      <td>1022</td>\n",
       "      <td>Male</td>\n",
       "      <td>IT</td>\n",
       "      <td>29000</td>\n",
       "      <td>22</td>\n",
       "      <td>0</td>\n",
       "    </tr>\n",
       "    <tr>\n",
       "      <th>46</th>\n",
       "      <td>1055</td>\n",
       "      <td>Male</td>\n",
       "      <td>IT</td>\n",
       "      <td>27500</td>\n",
       "      <td>22</td>\n",
       "      <td>0</td>\n",
       "    </tr>\n",
       "    <tr>\n",
       "      <th>47</th>\n",
       "      <td>1056</td>\n",
       "      <td>Female</td>\n",
       "      <td>IT</td>\n",
       "      <td>29000</td>\n",
       "      <td>23</td>\n",
       "      <td>0</td>\n",
       "    </tr>\n",
       "  </tbody>\n",
       "</table>\n",
       "</div>"
      ],
      "text/plain": [
       "    Employee_Code   Gender Department  Annual Salary ($)  Age  Work_Experience\n",
       "0             1010    Male        IT               27000   22                0\n",
       "7             1017    Male        IT               28000   23                0\n",
       "12            1022    Male        IT               29000   22                0\n",
       "46            1055    Male        IT               27500   22                0\n",
       "47            1056  Female        IT               29000   23                0"
      ]
     },
     "execution_count": 64,
     "metadata": {},
     "output_type": "execute_result"
    }
   ],
   "source": [
    "t3_a=df[(df['Department']=='IT ') & (df['Work_Experience']==0)]\n",
    "t3_a"
   ]
  },
  {
   "cell_type": "code",
   "execution_count": 63,
   "id": "be095200",
   "metadata": {},
   "outputs": [
    {
     "data": {
      "text/plain": [
       "28100.0"
      ]
     },
     "execution_count": 63,
     "metadata": {},
     "output_type": "execute_result"
    }
   ],
   "source": [
    "t3_b=df[(df['Department']=='IT ') & (df['Work_Experience']==0)] ['Annual Salary ($)'].mean()\n",
    "t3_b"
   ]
  },
  {
   "cell_type": "code",
   "execution_count": null,
   "id": "e0832a71",
   "metadata": {},
   "outputs": [],
   "source": [
    "# IT Departent who work_Experience is 0."
   ]
  },
  {
   "cell_type": "markdown",
   "id": "4036391a",
   "metadata": {},
   "source": [
    "# task 4"
   ]
  },
  {
   "cell_type": "code",
   "execution_count": 101,
   "id": "961b4e18",
   "metadata": {},
   "outputs": [
    {
     "data": {
      "text/plain": [
       "Department\n",
       "Finance     790000\n",
       "HR          987000\n",
       "IT         1282900\n",
       "Sales      1089000\n",
       "Name: Annual Salary ($), dtype: int64"
      ]
     },
     "execution_count": 101,
     "metadata": {},
     "output_type": "execute_result"
    }
   ],
   "source": [
    "t4=df.groupby(['Department'])['Annual Salary ($)'].sum()\n",
    "t4"
   ]
  },
  {
   "cell_type": "code",
   "execution_count": 97,
   "id": "54a6db8f",
   "metadata": {},
   "outputs": [
    {
     "data": {
      "text/plain": [
       "Index(['Finance', 'HR', 'IT ', 'Sales'], dtype='object', name='Department')"
      ]
     },
     "execution_count": 97,
     "metadata": {},
     "output_type": "execute_result"
    }
   ],
   "source": [
    "t4.index"
   ]
  },
  {
   "cell_type": "code",
   "execution_count": 98,
   "id": "7edcf99b",
   "metadata": {},
   "outputs": [
    {
     "data": {
      "text/plain": [
       "array([ 790000,  987000, 1282900, 1089000], dtype=int64)"
      ]
     },
     "execution_count": 98,
     "metadata": {},
     "output_type": "execute_result"
    }
   ],
   "source": [
    "t4.values\n"
   ]
  },
  {
   "cell_type": "code",
   "execution_count": null,
   "id": "0bc1cdaf",
   "metadata": {},
   "outputs": [],
   "source": [
    "x=['Finance', 'HR', 'IT ', 'Sales']\n",
    "y=[ 790000,  987000, 1282900, 1089000]"
   ]
  },
  {
   "cell_type": "code",
   "execution_count": 165,
   "id": "ba4c8425",
   "metadata": {},
   "outputs": [
    {
     "data": {
      "image/png": "[encoded data removed]",
      "text/plain": [
       "<Figure size 640x480 with 1 Axes>"
      ]
     },
     "metadata": {},
     "output_type": "display_data"
    }
   ],
   "source": [
    "plt.pie(y,labels=x,autopct='%.2f%%')\n",
    "plt.show()"
   ]
  },
  {
   "cell_type": "code",
   "execution_count": null,
   "id": "03ece78c",
   "metadata": {},
   "outputs": [],
   "source": [
    "# count of body type according to their department-wise."
   ]
  },
  {
   "cell_type": "markdown",
   "id": "bb16d132",
   "metadata": {},
   "source": [
    "# task 5"
   ]
  },
  {
   "cell_type": "code",
   "execution_count": 182,
   "id": "bccfcb52",
   "metadata": {},
   "outputs": [
    {
     "data": {
      "image/png": "[encoded data removed]",
      "text/plain": [
       "<Figure size 640x480 with 1 Axes>"
      ]
     },
     "metadata": {},
     "output_type": "display_data"
    }
   ],
   "source": [
    "plt.hist(df.Age,bins=5)\n",
    "plt.show()\n",
    "\n"
   ]
  },
  {
   "cell_type": "code",
   "execution_count": null,
   "id": "def6700d",
   "metadata": {},
   "outputs": [],
   "source": [
    "# Eployees according to their age groups."
   ]
  },
  {
   "cell_type": "markdown",
   "id": "4b7c2c7c",
   "metadata": {},
   "source": [
    "# task 6"
   ]
  },
  {
   "cell_type": "code",
   "execution_count": 153,
   "id": "85e5bd73",
   "metadata": {},
   "outputs": [
    {
     "data": {
      "text/plain": [
       "Text(0, 0.5, 'Salary')"
      ]
     },
     "execution_count": 153,
     "metadata": {},
     "output_type": "execute_result"
    },
    {
     "data": {
      "image/png": "[encoded data removed]",
      "text/plain": [
       "<Figure size 640x480 with 1 Axes>"
      ]
     },
     "metadata": {},
     "output_type": "display_data"
    }
   ],
   "source": [
    "z=df['Work_Experience'].corr(df['Annual Salary ($)'])\n",
    "plt.scatter(x=df['Work_Experience'],y=df['Annual Salary ($)'],color='b',s=60,label='z='+str(z))\n",
    "plt.legend()\n",
    "plt.xlabel('Work_Experience ')\n",
    "plt.ylabel('Salary')"
   ]
  },
  {
   "cell_type": "code",
   "execution_count": null,
   "id": "c983212c",
   "metadata": {},
   "outputs": [],
   "source": [
    "# Salary based on employees experience."
   ]
  },
  {
   "cell_type": "markdown",
   "id": "feb4641c",
   "metadata": {},
   "source": [
    "# task 7"
   ]
  },
  {
   "cell_type": "code",
   "execution_count": 166,
   "id": "e50135fa",
   "metadata": {},
   "outputs": [],
   "source": [
    "Salary_hr=df[(df['Department']=='HR')]['Annual Salary ($)']\n",
    "Salary_it=df[(df['Department']=='IT ')]['Annual Salary ($)']\n",
    "Salary_sales=df[(df['Department']=='Sales')]['Annual Salary ($)']\n",
    "Salary_finance=df[(df['Department']=='Finance')]['Annual Salary ($)']"
   ]
  },
  {
   "cell_type": "code",
   "execution_count": 167,
   "id": "5dcdeb65",
   "metadata": {},
   "outputs": [
    {
     "data": {
      "image/png": "[encoded data removed]",
      "text/plain": [
       "<Figure size 640x480 with 1 Axes>"
      ]
     },
     "metadata": {},
     "output_type": "display_data"
    }
   ],
   "source": [
    "plt.boxplot([Salary_hr,Salary_it,Salary_sales,Salary_finance],labels=['HR','IT','Sales','Finance'])\n",
    "plt.show()"
   ]
  },
  {
   "cell_type": "code",
   "execution_count": null,
   "id": "1ec9faf5",
   "metadata": {},
   "outputs": [],
   "source": [
    "# Department-wise spread all employees and their salaries."
   ]
  },
  {
   "cell_type": "code",
   "execution_count": null,
   "id": "cf2638ad",
   "metadata": {},
   "outputs": [],
   "source": []
  }
 ],
 "metadata": {
  "kernelspec": {
   "display_name": "Python 3 (ipykernel)",
   "language": "python",
   "name": "python3"
  },
  "language_info": {
   "codemirror_mode": {
    "name": "ipython",
    "version": 3
   },
   "file_extension": ".py",
   "mimetype": "text/x-python",
   "name": "python",
   "nbconvert_exporter": "python",
   "pygments_lexer": "ipython3",
   "version": "3.9.13"
  }
 },
 "nbformat": 4,
 "nbformat_minor": 5
}
