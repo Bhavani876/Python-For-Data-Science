{
 "cells": [
  {
   "cell_type": "markdown",
   "id": "5273910b",
   "metadata": {},
   "source": [
    "# sprint_2 challange"
   ]
  },
  {
   "cell_type": "markdown",
   "id": "b68bd54b",
   "metadata": {},
   "source": [
    "# task 1"
   ]
  },
  {
   "cell_type": "code",
   "execution_count": 266,
   "id": "b65d811d",
   "metadata": {},
   "outputs": [],
   "source": [
    "import numpy as np\n",
    "import pandas as pd"
   ]
  },
  {
   "cell_type": "code",
   "execution_count": 267,
   "id": "c662809e",
   "metadata": {},
   "outputs": [
    {
     "data": {
      "text/plain": [
       "101    32292\n",
       "102    43129\n",
       "103    42826\n",
       "104    31526\n",
       "105    44563\n",
       "106    32767\n",
       "107    36134\n",
       "108    42233\n",
       "109    33210\n",
       "110    46247\n",
       "111    38520\n",
       "112    40901\n",
       "113    45248\n",
       "114    34540\n",
       "115    35873\n",
       "116    44705\n",
       "117    30443\n",
       "118    37397\n",
       "119    37984\n",
       "120    35784\n",
       "dtype: int32"
      ]
     },
     "execution_count": 267,
     "metadata": {},
     "output_type": "execute_result"
    }
   ],
   "source": [
    "price_of_cars=pd.Series(np.random.randint(30000,50000,20),index=np.arange(101,121))\n",
    "price_of_cars\n"
   ]
  },
  {
   "cell_type": "code",
   "execution_count": 268,
   "id": "5efde8fb",
   "metadata": {},
   "outputs": [
    {
     "data": {
      "text/plain": [
       "117    30443\n",
       "104    31526\n",
       "101    32292\n",
       "106    32767\n",
       "109    33210\n",
       "114    34540\n",
       "120    35784\n",
       "115    35873\n",
       "107    36134\n",
       "118    37397\n",
       "119    37984\n",
       "111    38520\n",
       "112    40901\n",
       "108    42233\n",
       "103    42826\n",
       "102    43129\n",
       "105    44563\n",
       "116    44705\n",
       "113    45248\n",
       "110    46247\n",
       "dtype: int32"
      ]
     },
     "execution_count": 268,
     "metadata": {},
     "output_type": "execute_result"
    }
   ],
   "source": [
    "price_of_cars.sort_values(ascending=True)"
   ]
  },
  {
   "cell_type": "code",
   "execution_count": 269,
   "id": "a7cc35a8",
   "metadata": {},
   "outputs": [],
   "source": [
    "# task 2"
   ]
  },
  {
   "cell_type": "code",
   "execution_count": 270,
   "id": "8f20a8de",
   "metadata": {},
   "outputs": [
    {
     "data": {
      "text/plain": [
       "102    43129\n",
       "103    42826\n",
       "105    44563\n",
       "108    42233\n",
       "110    46247\n",
       "112    40901\n",
       "113    45248\n",
       "116    44705\n",
       "dtype: int32"
      ]
     },
     "execution_count": 270,
     "metadata": {},
     "output_type": "execute_result"
    }
   ],
   "source": [
    "price_of_cars[price_of_cars>40000]"
   ]
  },
  {
   "cell_type": "code",
   "execution_count": 271,
   "id": "28a2ad64",
   "metadata": {},
   "outputs": [
    {
     "data": {
      "text/plain": [
       "8"
      ]
     },
     "execution_count": 271,
     "metadata": {},
     "output_type": "execute_result"
    }
   ],
   "source": [
    "price_of_cars[price_of_cars>40000].count()"
   ]
  },
  {
   "cell_type": "code",
   "execution_count": 272,
   "id": "88518194",
   "metadata": {},
   "outputs": [],
   "source": [
    "# task 3"
   ]
  },
  {
   "cell_type": "code",
   "execution_count": 273,
   "id": "5a9079a9",
   "metadata": {},
   "outputs": [
    {
     "data": {
      "text/plain": [
       "111    38520\n",
       "112    40901\n",
       "113    45248\n",
       "114    34540\n",
       "115    35873\n",
       "116    44705\n",
       "dtype: int32"
      ]
     },
     "execution_count": 273,
     "metadata": {},
     "output_type": "execute_result"
    }
   ],
   "source": [
    "# cars having model no's\n",
    "price_of_cars[10:16]"
   ]
  },
  {
   "cell_type": "code",
   "execution_count": 274,
   "id": "b32c8800",
   "metadata": {},
   "outputs": [],
   "source": [
    "# task 4"
   ]
  },
  {
   "cell_type": "code",
   "execution_count": 275,
   "id": "85dc94b5",
   "metadata": {},
   "outputs": [
    {
     "name": "stderr",
     "output_type": "stream",
     "text": [
      "C:\\Users\\mail4\\AppData\\Local\\Temp\\ipykernel_20340\\2282229941.py:1: FutureWarning: Boolean inputs to the `inclusive` argument are deprecated in favour of `both` or `neither`.\n",
      "  price_of_cars[price_of_cars.between(30000,40000,inclusive=True)]\n"
     ]
    },
    {
     "data": {
      "text/plain": [
       "101    32292\n",
       "104    31526\n",
       "106    32767\n",
       "107    36134\n",
       "109    33210\n",
       "111    38520\n",
       "114    34540\n",
       "115    35873\n",
       "117    30443\n",
       "118    37397\n",
       "119    37984\n",
       "120    35784\n",
       "dtype: int32"
      ]
     },
     "execution_count": 275,
     "metadata": {},
     "output_type": "execute_result"
    }
   ],
   "source": [
    "price_of_cars[price_of_cars.between(30000,40000,inclusive=True)]"
   ]
  },
  {
   "cell_type": "code",
   "execution_count": 276,
   "id": "9de5a83f",
   "metadata": {},
   "outputs": [],
   "source": [
    "# task 5"
   ]
  },
  {
   "cell_type": "code",
   "execution_count": 277,
   "id": "72a7ce77",
   "metadata": {},
   "outputs": [
    {
     "data": {
      "text/plain": [
       "38316.1"
      ]
     },
     "execution_count": 277,
     "metadata": {},
     "output_type": "execute_result"
    }
   ],
   "source": [
    "price_of_cars.mean()"
   ]
  },
  {
   "cell_type": "code",
   "execution_count": 278,
   "id": "1c7d6233",
   "metadata": {},
   "outputs": [],
   "source": [
    "# task 6"
   ]
  },
  {
   "cell_type": "code",
   "execution_count": 279,
   "id": "678a0835",
   "metadata": {},
   "outputs": [
    {
     "data": {
      "text/plain": [
       "201    34000\n",
       "202    45000\n",
       "203    54000\n",
       "dtype: int64"
      ]
     },
     "execution_count": 279,
     "metadata": {},
     "output_type": "execute_result"
    }
   ],
   "source": [
    "model_no=[201,202,203]\n",
    "price=[34000,45000,54000]\n",
    "new_car=pd.Series(price,index=model_no)\n",
    "new_car"
   ]
  },
  {
   "cell_type": "code",
   "execution_count": 280,
   "id": "7c16c215",
   "metadata": {},
   "outputs": [
    {
     "name": "stderr",
     "output_type": "stream",
     "text": [
      "C:\\Users\\mail4\\AppData\\Local\\Temp\\ipykernel_20340\\1794804945.py:1: FutureWarning: The series.append method is deprecated and will be removed from pandas in a future version. Use pandas.concat instead.\n",
      "  price_of_cars=price_of_cars.append(new_car)\n"
     ]
    },
    {
     "data": {
      "text/plain": [
       "101    32292\n",
       "102    43129\n",
       "103    42826\n",
       "104    31526\n",
       "105    44563\n",
       "106    32767\n",
       "107    36134\n",
       "108    42233\n",
       "109    33210\n",
       "110    46247\n",
       "111    38520\n",
       "112    40901\n",
       "113    45248\n",
       "114    34540\n",
       "115    35873\n",
       "116    44705\n",
       "117    30443\n",
       "118    37397\n",
       "119    37984\n",
       "120    35784\n",
       "201    34000\n",
       "202    45000\n",
       "203    54000\n",
       "dtype: int64"
      ]
     },
     "execution_count": 280,
     "metadata": {},
     "output_type": "execute_result"
    }
   ],
   "source": [
    "price_of_cars=price_of_cars.append(new_car)\n",
    "price_of_cars\n",
    "\n"
   ]
  },
  {
   "cell_type": "code",
   "execution_count": 281,
   "id": "237e4ade",
   "metadata": {},
   "outputs": [
    {
     "data": {
      "text/plain": [
       "117    30443\n",
       "104    31526\n",
       "101    32292\n",
       "106    32767\n",
       "109    33210\n",
       "201    34000\n",
       "114    34540\n",
       "120    35784\n",
       "115    35873\n",
       "107    36134\n",
       "118    37397\n",
       "119    37984\n",
       "111    38520\n",
       "112    40901\n",
       "108    42233\n",
       "103    42826\n",
       "102    43129\n",
       "105    44563\n",
       "116    44705\n",
       "202    45000\n",
       "113    45248\n",
       "110    46247\n",
       "203    54000\n",
       "dtype: int64"
      ]
     },
     "execution_count": 281,
     "metadata": {},
     "output_type": "execute_result"
    }
   ],
   "source": [
    "price_of_cars.sort_values(ascending=True)"
   ]
  },
  {
   "cell_type": "code",
   "execution_count": 282,
   "id": "c98dcfed",
   "metadata": {},
   "outputs": [],
   "source": [
    "# task 7"
   ]
  },
  {
   "cell_type": "code",
   "execution_count": 283,
   "id": "66cb2904",
   "metadata": {},
   "outputs": [
    {
     "data": {
      "text/plain": [
       "102    43129\n",
       "103    42826\n",
       "105    44563\n",
       "108    42233\n",
       "110    46247\n",
       "112    40901\n",
       "113    45248\n",
       "116    44705\n",
       "202    45000\n",
       "203    54000\n",
       "dtype: int64"
      ]
     },
     "execution_count": 283,
     "metadata": {},
     "output_type": "execute_result"
    }
   ],
   "source": [
    "price_of_cars[price_of_cars>40000]"
   ]
  },
  {
   "cell_type": "code",
   "execution_count": 284,
   "id": "1e8ebc41",
   "metadata": {},
   "outputs": [
    {
     "data": {
      "text/plain": [
       "101    3229.2\n",
       "102    4312.9\n",
       "103    4282.6\n",
       "104    3152.6\n",
       "105    4456.3\n",
       "106    3276.7\n",
       "107    3613.4\n",
       "108    4223.3\n",
       "109    3321.0\n",
       "110    4624.7\n",
       "111    3852.0\n",
       "112    4090.1\n",
       "113    4524.8\n",
       "114    3454.0\n",
       "115    3587.3\n",
       "116    4470.5\n",
       "117    3044.3\n",
       "118    3739.7\n",
       "119    3798.4\n",
       "120    3578.4\n",
       "201    3400.0\n",
       "202    4500.0\n",
       "203    5400.0\n",
       "dtype: float64"
      ]
     },
     "execution_count": 284,
     "metadata": {},
     "output_type": "execute_result"
    }
   ],
   "source": [
    "x=price_of_cars*10/100\n",
    "x"
   ]
  },
  {
   "cell_type": "code",
   "execution_count": 285,
   "id": "3ec65fea",
   "metadata": {},
   "outputs": [
    {
     "data": {
      "text/plain": [
       "101    29062.8\n",
       "102    38816.1\n",
       "103    38543.4\n",
       "104    28373.4\n",
       "105    40106.7\n",
       "106    29490.3\n",
       "107    32520.6\n",
       "108    38009.7\n",
       "109    29889.0\n",
       "110    41622.3\n",
       "111    34668.0\n",
       "112    36810.9\n",
       "113    40723.2\n",
       "114    31086.0\n",
       "115    32285.7\n",
       "116    40234.5\n",
       "117    27398.7\n",
       "118    33657.3\n",
       "119    34185.6\n",
       "120    32205.6\n",
       "201    30600.0\n",
       "202    40500.0\n",
       "203    48600.0\n",
       "dtype: float64"
      ]
     },
     "execution_count": 285,
     "metadata": {},
     "output_type": "execute_result"
    }
   ],
   "source": [
    "y=price_of_cars-x\n",
    "y"
   ]
  },
  {
   "cell_type": "code",
   "execution_count": 286,
   "id": "a1ed5d84",
   "metadata": {},
   "outputs": [
    {
     "data": {
      "text/html": [
       "<div>\n",
       "<style scoped>\n",
       "    .dataframe tbody tr th:only-of-type {\n",
       "        vertical-align: middle;\n",
       "    }\n",
       "\n",
       "    .dataframe tbody tr th {\n",
       "        vertical-align: top;\n",
       "    }\n",
       "\n",
       "    .dataframe thead th {\n",
       "        text-align: right;\n",
       "    }\n",
       "</style>\n",
       "<table border=\"1\" class=\"dataframe\">\n",
       "  <thead>\n",
       "    <tr style=\"text-align: right;\">\n",
       "      <th></th>\n",
       "      <th>price</th>\n",
       "      <th>Discount</th>\n",
       "      <th>After Discount</th>\n",
       "    </tr>\n",
       "  </thead>\n",
       "  <tbody>\n",
       "    <tr>\n",
       "      <th>101</th>\n",
       "      <td>31703</td>\n",
       "      <td>3229.2</td>\n",
       "      <td>29062.8</td>\n",
       "    </tr>\n",
       "    <tr>\n",
       "      <th>102</th>\n",
       "      <td>32892</td>\n",
       "      <td>4312.9</td>\n",
       "      <td>38816.1</td>\n",
       "    </tr>\n",
       "    <tr>\n",
       "      <th>103</th>\n",
       "      <td>31243</td>\n",
       "      <td>4282.6</td>\n",
       "      <td>38543.4</td>\n",
       "    </tr>\n",
       "    <tr>\n",
       "      <th>104</th>\n",
       "      <td>41837</td>\n",
       "      <td>3152.6</td>\n",
       "      <td>28373.4</td>\n",
       "    </tr>\n",
       "    <tr>\n",
       "      <th>105</th>\n",
       "      <td>34233</td>\n",
       "      <td>4456.3</td>\n",
       "      <td>40106.7</td>\n",
       "    </tr>\n",
       "    <tr>\n",
       "      <th>106</th>\n",
       "      <td>31176</td>\n",
       "      <td>3276.7</td>\n",
       "      <td>29490.3</td>\n",
       "    </tr>\n",
       "    <tr>\n",
       "      <th>107</th>\n",
       "      <td>45126</td>\n",
       "      <td>3613.4</td>\n",
       "      <td>32520.6</td>\n",
       "    </tr>\n",
       "    <tr>\n",
       "      <th>108</th>\n",
       "      <td>31736</td>\n",
       "      <td>4223.3</td>\n",
       "      <td>38009.7</td>\n",
       "    </tr>\n",
       "    <tr>\n",
       "      <th>109</th>\n",
       "      <td>40764</td>\n",
       "      <td>3321.0</td>\n",
       "      <td>29889.0</td>\n",
       "    </tr>\n",
       "    <tr>\n",
       "      <th>110</th>\n",
       "      <td>37259</td>\n",
       "      <td>4624.7</td>\n",
       "      <td>41622.3</td>\n",
       "    </tr>\n",
       "    <tr>\n",
       "      <th>111</th>\n",
       "      <td>31104</td>\n",
       "      <td>3852.0</td>\n",
       "      <td>34668.0</td>\n",
       "    </tr>\n",
       "    <tr>\n",
       "      <th>112</th>\n",
       "      <td>46232</td>\n",
       "      <td>4090.1</td>\n",
       "      <td>36810.9</td>\n",
       "    </tr>\n",
       "    <tr>\n",
       "      <th>113</th>\n",
       "      <td>35226</td>\n",
       "      <td>4524.8</td>\n",
       "      <td>40723.2</td>\n",
       "    </tr>\n",
       "    <tr>\n",
       "      <th>114</th>\n",
       "      <td>46841</td>\n",
       "      <td>3454.0</td>\n",
       "      <td>31086.0</td>\n",
       "    </tr>\n",
       "    <tr>\n",
       "      <th>115</th>\n",
       "      <td>43493</td>\n",
       "      <td>3587.3</td>\n",
       "      <td>32285.7</td>\n",
       "    </tr>\n",
       "    <tr>\n",
       "      <th>116</th>\n",
       "      <td>39890</td>\n",
       "      <td>4470.5</td>\n",
       "      <td>40234.5</td>\n",
       "    </tr>\n",
       "    <tr>\n",
       "      <th>117</th>\n",
       "      <td>48808</td>\n",
       "      <td>3044.3</td>\n",
       "      <td>27398.7</td>\n",
       "    </tr>\n",
       "    <tr>\n",
       "      <th>118</th>\n",
       "      <td>38903</td>\n",
       "      <td>3739.7</td>\n",
       "      <td>33657.3</td>\n",
       "    </tr>\n",
       "    <tr>\n",
       "      <th>119</th>\n",
       "      <td>43934</td>\n",
       "      <td>3798.4</td>\n",
       "      <td>34185.6</td>\n",
       "    </tr>\n",
       "    <tr>\n",
       "      <th>120</th>\n",
       "      <td>49732</td>\n",
       "      <td>3578.4</td>\n",
       "      <td>32205.6</td>\n",
       "    </tr>\n",
       "    <tr>\n",
       "      <th>201</th>\n",
       "      <td>34000</td>\n",
       "      <td>3400.0</td>\n",
       "      <td>30600.0</td>\n",
       "    </tr>\n",
       "    <tr>\n",
       "      <th>202</th>\n",
       "      <td>45000</td>\n",
       "      <td>4500.0</td>\n",
       "      <td>40500.0</td>\n",
       "    </tr>\n",
       "    <tr>\n",
       "      <th>203</th>\n",
       "      <td>54000</td>\n",
       "      <td>5400.0</td>\n",
       "      <td>48600.0</td>\n",
       "    </tr>\n",
       "  </tbody>\n",
       "</table>\n",
       "</div>"
      ],
      "text/plain": [
       "     price  Discount  After Discount\n",
       "101  31703    3229.2         29062.8\n",
       "102  32892    4312.9         38816.1\n",
       "103  31243    4282.6         38543.4\n",
       "104  41837    3152.6         28373.4\n",
       "105  34233    4456.3         40106.7\n",
       "106  31176    3276.7         29490.3\n",
       "107  45126    3613.4         32520.6\n",
       "108  31736    4223.3         38009.7\n",
       "109  40764    3321.0         29889.0\n",
       "110  37259    4624.7         41622.3\n",
       "111  31104    3852.0         34668.0\n",
       "112  46232    4090.1         36810.9\n",
       "113  35226    4524.8         40723.2\n",
       "114  46841    3454.0         31086.0\n",
       "115  43493    3587.3         32285.7\n",
       "116  39890    4470.5         40234.5\n",
       "117  48808    3044.3         27398.7\n",
       "118  38903    3739.7         33657.3\n",
       "119  43934    3798.4         34185.6\n",
       "120  49732    3578.4         32205.6\n",
       "201  34000    3400.0         30600.0\n",
       "202  45000    4500.0         40500.0\n",
       "203  54000    5400.0         48600.0"
      ]
     },
     "execution_count": 286,
     "metadata": {},
     "output_type": "execute_result"
    }
   ],
   "source": [
    "pd.DataFrame(price_of_cars,columns=[\"price\"])\n",
    "df[\"Discount\"]=x\n",
    "df[\"After Discount\"]=y\n",
    "df"
   ]
  },
  {
   "cell_type": "code",
   "execution_count": 287,
   "id": "6248e078",
   "metadata": {},
   "outputs": [],
   "source": [
    "# task 8"
   ]
  },
  {
   "cell_type": "code",
   "execution_count": 293,
   "id": "2ff6b9ab",
   "metadata": {},
   "outputs": [
    {
     "data": {
      "text/plain": [
       "101    32292\n",
       "102    43129\n",
       "103    42826\n",
       "104    31526\n",
       "105    44563\n",
       "106    32767\n",
       "107    36134\n",
       "108    42233\n",
       "109    33210\n",
       "110    46247\n",
       "111    38520\n",
       "112    40901\n",
       "113    45248\n",
       "114    34540\n",
       "115    35873\n",
       "116    44705\n",
       "117    30443\n",
       "118    37397\n",
       "119    37984\n",
       "120    35784\n",
       "201    34000\n",
       "202    45000\n",
       "203    54000\n",
       "dtype: int64"
      ]
     },
     "execution_count": 293,
     "metadata": {},
     "output_type": "execute_result"
    }
   ],
   "source": [
    "price_of_cars[(price_of_cars>30000) & (price_of_cars<40000)]# Before Discount\n",
    "price_of_cars"
   ]
  },
  {
   "cell_type": "code",
   "execution_count": 289,
   "id": "78b8b8a1",
   "metadata": {},
   "outputs": [
    {
     "data": {
      "text/plain": [
       "23"
      ]
     },
     "execution_count": 289,
     "metadata": {},
     "output_type": "execute_result"
    }
   ],
   "source": [
    "price_of_cars.size "
   ]
  },
  {
   "cell_type": "code",
   "execution_count": 294,
   "id": "54edb1e9",
   "metadata": {},
   "outputs": [
    {
     "data": {
      "text/plain": [
       "101    29062.8\n",
       "102    38816.1\n",
       "103    38543.4\n",
       "104    28373.4\n",
       "105    40106.7\n",
       "106    29490.3\n",
       "107    32520.6\n",
       "108    38009.7\n",
       "109    29889.0\n",
       "110    41622.3\n",
       "111    34668.0\n",
       "112    36810.9\n",
       "113    40723.2\n",
       "114    31086.0\n",
       "115    32285.7\n",
       "116    40234.5\n",
       "117    27398.7\n",
       "118    33657.3\n",
       "119    34185.6\n",
       "120    32205.6\n",
       "201    30600.0\n",
       "202    40500.0\n",
       "203    48600.0\n",
       "dtype: float64"
      ]
     },
     "execution_count": 294,
     "metadata": {},
     "output_type": "execute_result"
    }
   ],
   "source": [
    "y[(y>30000) & (y<40000)]# After Discount\n",
    "y\n"
   ]
  },
  {
   "cell_type": "code",
   "execution_count": 291,
   "id": "1859bab1",
   "metadata": {},
   "outputs": [
    {
     "data": {
      "text/plain": [
       "23"
      ]
     },
     "execution_count": 291,
     "metadata": {},
     "output_type": "execute_result"
    }
   ],
   "source": [
    "price_of_cars.size"
   ]
  },
  {
   "cell_type": "code",
   "execution_count": null,
   "id": "84c7a20b",
   "metadata": {},
   "outputs": [],
   "source": [
    "# task 9 # least top five cars"
   ]
  },
  {
   "cell_type": "code",
   "execution_count": 297,
   "id": "6e9f0587",
   "metadata": {},
   "outputs": [
    {
     "data": {
      "text/plain": [
       "117    30443\n",
       "104    31526\n",
       "101    32292\n",
       "106    32767\n",
       "109    33210\n",
       "dtype: int64"
      ]
     },
     "execution_count": 297,
     "metadata": {},
     "output_type": "execute_result"
    }
   ],
   "source": [
    "df=price_of_cars.sort_values(ascending=True)[:5]\n",
    "df"
   ]
  },
  {
   "cell_type": "code",
   "execution_count": 263,
   "id": "5e314a3d",
   "metadata": {},
   "outputs": [
    {
     "data": {
      "text/html": [
       "<div>\n",
       "<style scoped>\n",
       "    .dataframe tbody tr th:only-of-type {\n",
       "        vertical-align: middle;\n",
       "    }\n",
       "\n",
       "    .dataframe tbody tr th {\n",
       "        vertical-align: top;\n",
       "    }\n",
       "\n",
       "    .dataframe thead th {\n",
       "        text-align: right;\n",
       "    }\n",
       "</style>\n",
       "<table border=\"1\" class=\"dataframe\">\n",
       "  <thead>\n",
       "    <tr style=\"text-align: right;\">\n",
       "      <th></th>\n",
       "      <th>price</th>\n",
       "      <th>Discount</th>\n",
       "      <th>After Discount</th>\n",
       "    </tr>\n",
       "  </thead>\n",
       "  <tbody>\n",
       "    <tr>\n",
       "      <th>101</th>\n",
       "      <td>31703</td>\n",
       "      <td>0.0</td>\n",
       "      <td>31703.0</td>\n",
       "    </tr>\n",
       "    <tr>\n",
       "      <th>102</th>\n",
       "      <td>32892</td>\n",
       "      <td>0.0</td>\n",
       "      <td>32892.0</td>\n",
       "    </tr>\n",
       "    <tr>\n",
       "      <th>103</th>\n",
       "      <td>31243</td>\n",
       "      <td>0.0</td>\n",
       "      <td>31243.0</td>\n",
       "    </tr>\n",
       "    <tr>\n",
       "      <th>104</th>\n",
       "      <td>41837</td>\n",
       "      <td>4183.7</td>\n",
       "      <td>37653.3</td>\n",
       "    </tr>\n",
       "    <tr>\n",
       "      <th>105</th>\n",
       "      <td>34233</td>\n",
       "      <td>0.0</td>\n",
       "      <td>34233.0</td>\n",
       "    </tr>\n",
       "    <tr>\n",
       "      <th>106</th>\n",
       "      <td>31176</td>\n",
       "      <td>0.0</td>\n",
       "      <td>31176.0</td>\n",
       "    </tr>\n",
       "    <tr>\n",
       "      <th>107</th>\n",
       "      <td>45126</td>\n",
       "      <td>4512.6</td>\n",
       "      <td>40613.4</td>\n",
       "    </tr>\n",
       "    <tr>\n",
       "      <th>108</th>\n",
       "      <td>31736</td>\n",
       "      <td>0.0</td>\n",
       "      <td>31736.0</td>\n",
       "    </tr>\n",
       "    <tr>\n",
       "      <th>109</th>\n",
       "      <td>40764</td>\n",
       "      <td>4076.4</td>\n",
       "      <td>36687.6</td>\n",
       "    </tr>\n",
       "    <tr>\n",
       "      <th>110</th>\n",
       "      <td>37259</td>\n",
       "      <td>0.0</td>\n",
       "      <td>37259.0</td>\n",
       "    </tr>\n",
       "    <tr>\n",
       "      <th>111</th>\n",
       "      <td>31104</td>\n",
       "      <td>0.0</td>\n",
       "      <td>31104.0</td>\n",
       "    </tr>\n",
       "    <tr>\n",
       "      <th>112</th>\n",
       "      <td>46232</td>\n",
       "      <td>4623.2</td>\n",
       "      <td>41608.8</td>\n",
       "    </tr>\n",
       "    <tr>\n",
       "      <th>113</th>\n",
       "      <td>35226</td>\n",
       "      <td>0.0</td>\n",
       "      <td>35226.0</td>\n",
       "    </tr>\n",
       "    <tr>\n",
       "      <th>114</th>\n",
       "      <td>46841</td>\n",
       "      <td>4684.1</td>\n",
       "      <td>42156.9</td>\n",
       "    </tr>\n",
       "    <tr>\n",
       "      <th>115</th>\n",
       "      <td>43493</td>\n",
       "      <td>4349.3</td>\n",
       "      <td>39143.7</td>\n",
       "    </tr>\n",
       "    <tr>\n",
       "      <th>116</th>\n",
       "      <td>39890</td>\n",
       "      <td>0.0</td>\n",
       "      <td>39890.0</td>\n",
       "    </tr>\n",
       "    <tr>\n",
       "      <th>117</th>\n",
       "      <td>48808</td>\n",
       "      <td>4880.8</td>\n",
       "      <td>43927.2</td>\n",
       "    </tr>\n",
       "    <tr>\n",
       "      <th>118</th>\n",
       "      <td>38903</td>\n",
       "      <td>0.0</td>\n",
       "      <td>38903.0</td>\n",
       "    </tr>\n",
       "    <tr>\n",
       "      <th>119</th>\n",
       "      <td>43934</td>\n",
       "      <td>4393.4</td>\n",
       "      <td>39540.6</td>\n",
       "    </tr>\n",
       "    <tr>\n",
       "      <th>120</th>\n",
       "      <td>49732</td>\n",
       "      <td>4973.2</td>\n",
       "      <td>44758.8</td>\n",
       "    </tr>\n",
       "    <tr>\n",
       "      <th>201</th>\n",
       "      <td>34000</td>\n",
       "      <td>0.0</td>\n",
       "      <td>34000.0</td>\n",
       "    </tr>\n",
       "    <tr>\n",
       "      <th>202</th>\n",
       "      <td>45000</td>\n",
       "      <td>4500.0</td>\n",
       "      <td>40500.0</td>\n",
       "    </tr>\n",
       "    <tr>\n",
       "      <th>203</th>\n",
       "      <td>54000</td>\n",
       "      <td>5400.0</td>\n",
       "      <td>48600.0</td>\n",
       "    </tr>\n",
       "  </tbody>\n",
       "</table>\n",
       "</div>"
      ],
      "text/plain": [
       "     price  Discount  After Discount\n",
       "101  31703       0.0         31703.0\n",
       "102  32892       0.0         32892.0\n",
       "103  31243       0.0         31243.0\n",
       "104  41837    4183.7         37653.3\n",
       "105  34233       0.0         34233.0\n",
       "106  31176       0.0         31176.0\n",
       "107  45126    4512.6         40613.4\n",
       "108  31736       0.0         31736.0\n",
       "109  40764    4076.4         36687.6\n",
       "110  37259       0.0         37259.0\n",
       "111  31104       0.0         31104.0\n",
       "112  46232    4623.2         41608.8\n",
       "113  35226       0.0         35226.0\n",
       "114  46841    4684.1         42156.9\n",
       "115  43493    4349.3         39143.7\n",
       "116  39890       0.0         39890.0\n",
       "117  48808    4880.8         43927.2\n",
       "118  38903       0.0         38903.0\n",
       "119  43934    4393.4         39540.6\n",
       "120  49732    4973.2         44758.8\n",
       "201  34000       0.0         34000.0\n",
       "202  45000    4500.0         40500.0\n",
       "203  54000    5400.0         48600.0"
      ]
     },
     "execution_count": 263,
     "metadata": {},
     "output_type": "execute_result"
    }
   ],
   "source": [
    "#method 2(#task 7)\n",
    "x=list(map(lambda x: x*.10 if x>40000 else 0,price_of_cars))\n",
    "df=pd.DataFrame(price_of_cars,columns=[\"price\"])\n",
    "df[\"Discount\"]=x\n",
    "df[\"After Discount\"]=df[\"price\"]-df[\"Discount\"]\n",
    "df"
   ]
  }
 ],
 "metadata": {
  "kernelspec": {
   "display_name": "Python 3 (ipykernel)",
   "language": "python",
   "name": "python3"
  },
  "language_info": {
   "codemirror_mode": {
    "name": "ipython",
    "version": 3
   },
   "file_extension": ".py",
   "mimetype": "text/x-python",
   "name": "python",
   "nbconvert_exporter": "python",
   "pygments_lexer": "ipython3",
   "version": "3.9.13"
  }
 },
 "nbformat": 4,
 "nbformat_minor": 5
}
