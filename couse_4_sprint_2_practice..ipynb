{
 "cells": [
  {
   "cell_type": "markdown",
   "id": "4624dca0",
   "metadata": {},
   "source": [
    "# sprint_2 practice"
   ]
  },
  {
   "cell_type": "markdown",
   "id": "6a4479ab",
   "metadata": {},
   "source": [
    "# task 1"
   ]
  },
  {
   "cell_type": "code",
   "execution_count": 25,
   "id": "8a796ecf",
   "metadata": {},
   "outputs": [],
   "source": [
    "import numpy as np\n",
    "import pandas as pd\n"
   ]
  },
  {
   "cell_type": "code",
   "execution_count": 26,
   "id": "1fbc27a2",
   "metadata": {},
   "outputs": [
    {
     "data": {
      "text/plain": [
       "1001     1\n",
       "1002     2\n",
       "1003     3\n",
       "1004     4\n",
       "1005     5\n",
       "1006     6\n",
       "1007     7\n",
       "1008     8\n",
       "1009     9\n",
       "1010    10\n",
       "1011    11\n",
       "1012    12\n",
       "1013    13\n",
       "1014    14\n",
       "1015    15\n",
       "1016    16\n",
       "1017    17\n",
       "1018    18\n",
       "1019    19\n",
       "1020    20\n",
       "1021    21\n",
       "1022    22\n",
       "1023    23\n",
       "1024    24\n",
       "1025    25\n",
       "1026    26\n",
       "1027    27\n",
       "1028    28\n",
       "1029    29\n",
       "1030    30\n",
       "1031    31\n",
       "1032    32\n",
       "1033    33\n",
       "1034    34\n",
       "1035    35\n",
       "1036    36\n",
       "1037    37\n",
       "1038    38\n",
       "1039    39\n",
       "1040    40\n",
       "dtype: int32"
      ]
     },
     "execution_count": 26,
     "metadata": {},
     "output_type": "execute_result"
    }
   ],
   "source": [
    "students_ID=pd.Series(np.arange(1,41),index=np.arange(1001,1041))\n",
    "students_ID\n",
    "\n"
   ]
  },
  {
   "cell_type": "markdown",
   "id": "63359a62",
   "metadata": {},
   "source": [
    "# task 2"
   ]
  },
  {
   "cell_type": "code",
   "execution_count": 27,
   "id": "fcf8cba3",
   "metadata": {},
   "outputs": [
    {
     "data": {
      "text/plain": [
       "1001    61\n",
       "1002    81\n",
       "1003    54\n",
       "1004    58\n",
       "1005    51\n",
       "1006    58\n",
       "1007    92\n",
       "1008    72\n",
       "1009    51\n",
       "1010    52\n",
       "1011    90\n",
       "1012    66\n",
       "1013    69\n",
       "1014    93\n",
       "1015    84\n",
       "1016    76\n",
       "1017    70\n",
       "1018    60\n",
       "1019    90\n",
       "1020    89\n",
       "1021    63\n",
       "1022    74\n",
       "1023    51\n",
       "1024    80\n",
       "1025    50\n",
       "1026    65\n",
       "1027    84\n",
       "1028    53\n",
       "1029    93\n",
       "1030    61\n",
       "1031    70\n",
       "1032    84\n",
       "1033    73\n",
       "1034    91\n",
       "1035    57\n",
       "1036    86\n",
       "1037    70\n",
       "1038    93\n",
       "1039    58\n",
       "1040    67\n",
       "dtype: int32"
      ]
     },
     "execution_count": 27,
     "metadata": {},
     "output_type": "execute_result"
    }
   ],
   "source": [
    "math1=pd.Series(np.random.randint(50,95,40),index=students_ID.index)\n",
    "math1"
   ]
  },
  {
   "cell_type": "markdown",
   "id": "13d49d1e",
   "metadata": {},
   "source": [
    "# task 3"
   ]
  },
  {
   "cell_type": "code",
   "execution_count": 28,
   "id": "e99565f4",
   "metadata": {},
   "outputs": [
    {
     "data": {
      "text/plain": [
       "1001    77\n",
       "1002    46\n",
       "1003    74\n",
       "1004    84\n",
       "1005    44\n",
       "1006    46\n",
       "1007    57\n",
       "1008    92\n",
       "1009    53\n",
       "1010    75\n",
       "1011    54\n",
       "1012    77\n",
       "1013    89\n",
       "1014    70\n",
       "1015    75\n",
       "1016    70\n",
       "1017    94\n",
       "1018    79\n",
       "1019    85\n",
       "1020    74\n",
       "1021    94\n",
       "1022    73\n",
       "1023    78\n",
       "1024    57\n",
       "1025    42\n",
       "1026    47\n",
       "1027    92\n",
       "1028    85\n",
       "1029    64\n",
       "1030    62\n",
       "1031    82\n",
       "1032    42\n",
       "1033    42\n",
       "1034    54\n",
       "1035    45\n",
       "1036    86\n",
       "1037    91\n",
       "1038    49\n",
       "1039    53\n",
       "1040    40\n",
       "dtype: int32"
      ]
     },
     "execution_count": 28,
     "metadata": {},
     "output_type": "execute_result"
    }
   ],
   "source": [
    "physics1=pd.Series(np.random.randint(40,95,40),index=students_ID.index)\n",
    "physics1"
   ]
  },
  {
   "cell_type": "markdown",
   "id": "d9912f7b",
   "metadata": {},
   "source": [
    "# task 4"
   ]
  },
  {
   "cell_type": "code",
   "execution_count": 29,
   "id": "06c4dd2b",
   "metadata": {},
   "outputs": [
    {
     "data": {
      "text/plain": [
       "1008    164\n",
       "1013    158\n",
       "1014    163\n",
       "1015    159\n",
       "1017    164\n",
       "1019    175\n",
       "1020    163\n",
       "1021    157\n",
       "1027    176\n",
       "1029    157\n",
       "1031    152\n",
       "1036    172\n",
       "1037    161\n",
       "dtype: int32"
      ]
     },
     "execution_count": 29,
     "metadata": {},
     "output_type": "execute_result"
    }
   ],
   "source": [
    "total_l1=math1+physics1\n",
    "total_l1=total_l1[total_l1>=150]\n",
    "total_l1\n",
    "\n",
    "\n"
   ]
  },
  {
   "cell_type": "code",
   "execution_count": 30,
   "id": "286d297f",
   "metadata": {},
   "outputs": [
    {
     "data": {
      "text/plain": [
       "13"
      ]
     },
     "execution_count": 30,
     "metadata": {},
     "output_type": "execute_result"
    }
   ],
   "source": [
    "total_l1.size"
   ]
  },
  {
   "cell_type": "markdown",
   "id": "c172534a",
   "metadata": {},
   "source": [
    "# task 5"
   ]
  },
  {
   "cell_type": "code",
   "execution_count": 31,
   "id": "48aaab83",
   "metadata": {},
   "outputs": [
    {
     "data": {
      "text/plain": [
       "1008    58\n",
       "1013    85\n",
       "1014    77\n",
       "1015    97\n",
       "1017    95\n",
       "1019    62\n",
       "1020    73\n",
       "1021    84\n",
       "1027    81\n",
       "1029    84\n",
       "1031    69\n",
       "1036    98\n",
       "1037    71\n",
       "dtype: int32"
      ]
     },
     "execution_count": 31,
     "metadata": {},
     "output_type": "execute_result"
    }
   ],
   "source": [
    "math2=pd.Series(np.random.randint(50,100,13),index=total_l1.index)\n",
    "math2"
   ]
  },
  {
   "cell_type": "code",
   "execution_count": 33,
   "id": "2f641651",
   "metadata": {},
   "outputs": [
    {
     "data": {
      "text/plain": [
       "1008    95\n",
       "1013    94\n",
       "1014    66\n",
       "1015    82\n",
       "1017    92\n",
       "1019    54\n",
       "1020    72\n",
       "1021    61\n",
       "1027    88\n",
       "1029    83\n",
       "1031    36\n",
       "1036    45\n",
       "1037    51\n",
       "dtype: int32"
      ]
     },
     "execution_count": 33,
     "metadata": {},
     "output_type": "execute_result"
    }
   ],
   "source": [
    "physics2=pd.Series(np.random.randint(30,100,13),index=total_l1.index)\n",
    "physics2"
   ]
  },
  {
   "cell_type": "code",
   "execution_count": 34,
   "id": "a0a369de",
   "metadata": {},
   "outputs": [
    {
     "data": {
      "text/plain": [
       "1008    317\n",
       "1013    337\n",
       "1014    306\n",
       "1015    338\n",
       "1017    351\n",
       "1019    291\n",
       "1020    308\n",
       "1021    302\n",
       "1027    345\n",
       "1029    324\n",
       "1031    257\n",
       "1036    315\n",
       "1037    283\n",
       "dtype: int32"
      ]
     },
     "execution_count": 34,
     "metadata": {},
     "output_type": "execute_result"
    }
   ],
   "source": [
    "total_l2=math2+physics2+total_l1\n",
    "total_l2\n"
   ]
  },
  {
   "cell_type": "code",
   "execution_count": 35,
   "id": "0604f671",
   "metadata": {},
   "outputs": [
    {
     "data": {
      "text/plain": [
       "13"
      ]
     },
     "execution_count": 35,
     "metadata": {},
     "output_type": "execute_result"
    }
   ],
   "source": [
    "total_l2.size"
   ]
  },
  {
   "cell_type": "markdown",
   "id": "01bcf0ae",
   "metadata": {},
   "source": [
    "# task 6"
   ]
  },
  {
   "cell_type": "code",
   "execution_count": 36,
   "id": "c63cde7d",
   "metadata": {},
   "outputs": [
    {
     "data": {
      "text/plain": [
       "1008    481\n",
       "1013    495\n",
       "1014    469\n",
       "1015    497\n",
       "1017    515\n",
       "1019    466\n",
       "1020    471\n",
       "1021    459\n",
       "1027    521\n",
       "1029    481\n",
       "1031    409\n",
       "1036    487\n",
       "1037    444\n",
       "dtype: int32"
      ]
     },
     "execution_count": 36,
     "metadata": {},
     "output_type": "execute_result"
    }
   ],
   "source": [
    "screening_test=total_l1+total_l2\n",
    "screening_test[total_l1+total_l2>=300]\n",
    "screening_test"
   ]
  },
  {
   "cell_type": "code",
   "execution_count": 37,
   "id": "6e92c707",
   "metadata": {},
   "outputs": [
    {
     "data": {
      "text/plain": [
       "13"
      ]
     },
     "execution_count": 37,
     "metadata": {},
     "output_type": "execute_result"
    }
   ],
   "source": [
    "screening_test.size"
   ]
  },
  {
   "cell_type": "markdown",
   "id": "0ef5fc52",
   "metadata": {},
   "source": [
    "# task 7"
   ]
  },
  {
   "cell_type": "code",
   "execution_count": 38,
   "id": "1b05c614",
   "metadata": {},
   "outputs": [
    {
     "data": {
      "text/plain": [
       "1008    481\n",
       "1013    495\n",
       "1014    469\n",
       "1015    497\n",
       "1017    515\n",
       "1019    466\n",
       "1020    471\n",
       "1021    459\n",
       "1027    521\n",
       "1029    481\n",
       "1031    409\n",
       "1036    487\n",
       "1037    444\n",
       "dtype: int32"
      ]
     },
     "execution_count": 38,
     "metadata": {},
     "output_type": "execute_result"
    }
   ],
   "source": [
    "math_screening_test=pd.Series(np.random.randint(60,100,13),index=screening_test.index)\n",
    "screening_test"
   ]
  },
  {
   "cell_type": "code",
   "execution_count": 40,
   "id": "430cfa0f",
   "metadata": {},
   "outputs": [
    {
     "data": {
      "text/plain": [
       "1008    481\n",
       "1013    495\n",
       "1014    469\n",
       "1015    497\n",
       "1017    515\n",
       "1019    466\n",
       "1020    471\n",
       "1021    459\n",
       "1027    521\n",
       "1029    481\n",
       "1031    409\n",
       "1036    487\n",
       "1037    444\n",
       "dtype: int32"
      ]
     },
     "execution_count": 40,
     "metadata": {},
     "output_type": "execute_result"
    }
   ],
   "source": [
    "physics_screening_test=pd.Series(np.random.randint(75,100,13),index=screening_test.index)\n",
    "screening_test"
   ]
  },
  {
   "cell_type": "code",
   "execution_count": 41,
   "id": "7d3daeb4",
   "metadata": {},
   "outputs": [
    {
     "data": {
      "text/plain": [
       "1008    142\n",
       "1013    187\n",
       "1014    167\n",
       "1015    163\n",
       "1017    154\n",
       "1019    149\n",
       "1020    178\n",
       "1021    168\n",
       "1027    144\n",
       "1029    159\n",
       "1031    175\n",
       "1036    172\n",
       "1037    171\n",
       "dtype: int32"
      ]
     },
     "execution_count": 41,
     "metadata": {},
     "output_type": "execute_result"
    }
   ],
   "source": [
    "total_screening_test=math_screening_test+physics_screening_test\n",
    "total_screening_test"
   ]
  },
  {
   "cell_type": "code",
   "execution_count": 42,
   "id": "76098872",
   "metadata": {},
   "outputs": [
    {
     "data": {
      "text/plain": [
       "1008    176.0\n",
       "1013    182.2\n",
       "1014    171.3\n",
       "1015    182.9\n",
       "1017    189.6\n",
       "1019    168.9\n",
       "1020    172.1\n",
       "1021    167.9\n",
       "1027    190.8\n",
       "1029    176.7\n",
       "1031    148.4\n",
       "1036    177.6\n",
       "1037    161.5\n",
       "dtype: float64"
      ]
     },
     "execution_count": 42,
     "metadata": {},
     "output_type": "execute_result"
    }
   ],
   "source": [
    "final_score=((total_l2/400)*40)+((screening_test/200)*60)\n",
    "final_score"
   ]
  },
  {
   "cell_type": "markdown",
   "id": "576492ec",
   "metadata": {},
   "source": [
    "# task 8"
   ]
  },
  {
   "cell_type": "code",
   "execution_count": 85,
   "id": "700d98cb",
   "metadata": {},
   "outputs": [
    {
     "data": {
      "text/plain": [
       "1008    176.0\n",
       "1013    182.2\n",
       "1014    171.3\n",
       "1015    182.9\n",
       "1017    189.6\n",
       "1019    168.9\n",
       "1020    172.1\n",
       "1021    167.9\n",
       "1027    190.8\n",
       "1029    176.7\n",
       "1031    148.4\n",
       "1036    177.6\n",
       "1037    161.5\n",
       "dtype: float64"
      ]
     },
     "execution_count": 85,
     "metadata": {},
     "output_type": "execute_result"
    }
   ],
   "source": [
    "olympaid_event=final_score\n",
    "olympaid_event[final_score>75]\n",
    "final_score\n"
   ]
  },
  {
   "cell_type": "code",
   "execution_count": 87,
   "id": "70ec6bc4",
   "metadata": {},
   "outputs": [
    {
     "data": {
      "text/plain": [
       "<bound method Series.sort_index of 1008    176.0\n",
       "1013    182.2\n",
       "1014    171.3\n",
       "1015    182.9\n",
       "1017    189.6\n",
       "1019    168.9\n",
       "1020    172.1\n",
       "1021    167.9\n",
       "1027    190.8\n",
       "1029    176.7\n",
       "1031    148.4\n",
       "1036    177.6\n",
       "1037    161.5\n",
       "dtype: float64>"
      ]
     },
     "execution_count": 87,
     "metadata": {},
     "output_type": "execute_result"
    }
   ],
   "source": [
    "olympaid_event.sort_index"
   ]
  },
  {
   "cell_type": "markdown",
   "id": "02f8211c",
   "metadata": {},
   "source": [
    "# task 9"
   ]
  },
  {
   "cell_type": "code",
   "execution_count": 108,
   "id": "b6a0e363",
   "metadata": {},
   "outputs": [
    {
     "data": {
      "text/html": [
       "<div>\n",
       "<style scoped>\n",
       "    .dataframe tbody tr th:only-of-type {\n",
       "        vertical-align: middle;\n",
       "    }\n",
       "\n",
       "    .dataframe tbody tr th {\n",
       "        vertical-align: top;\n",
       "    }\n",
       "\n",
       "    .dataframe thead th {\n",
       "        text-align: right;\n",
       "    }\n",
       "</style>\n",
       "<table border=\"1\" class=\"dataframe\">\n",
       "  <thead>\n",
       "    <tr style=\"text-align: right;\">\n",
       "      <th></th>\n",
       "      <th>Total</th>\n",
       "    </tr>\n",
       "  </thead>\n",
       "  <tbody>\n",
       "    <tr>\n",
       "      <th>1008</th>\n",
       "      <td>176.0</td>\n",
       "    </tr>\n",
       "    <tr>\n",
       "      <th>1013</th>\n",
       "      <td>182.2</td>\n",
       "    </tr>\n",
       "    <tr>\n",
       "      <th>1014</th>\n",
       "      <td>171.3</td>\n",
       "    </tr>\n",
       "    <tr>\n",
       "      <th>1015</th>\n",
       "      <td>182.9</td>\n",
       "    </tr>\n",
       "    <tr>\n",
       "      <th>1017</th>\n",
       "      <td>189.6</td>\n",
       "    </tr>\n",
       "    <tr>\n",
       "      <th>1019</th>\n",
       "      <td>168.9</td>\n",
       "    </tr>\n",
       "    <tr>\n",
       "      <th>1020</th>\n",
       "      <td>172.1</td>\n",
       "    </tr>\n",
       "    <tr>\n",
       "      <th>1021</th>\n",
       "      <td>167.9</td>\n",
       "    </tr>\n",
       "    <tr>\n",
       "      <th>1027</th>\n",
       "      <td>190.8</td>\n",
       "    </tr>\n",
       "    <tr>\n",
       "      <th>1029</th>\n",
       "      <td>176.7</td>\n",
       "    </tr>\n",
       "    <tr>\n",
       "      <th>1031</th>\n",
       "      <td>148.4</td>\n",
       "    </tr>\n",
       "    <tr>\n",
       "      <th>1036</th>\n",
       "      <td>177.6</td>\n",
       "    </tr>\n",
       "    <tr>\n",
       "      <th>1037</th>\n",
       "      <td>161.5</td>\n",
       "    </tr>\n",
       "  </tbody>\n",
       "</table>\n",
       "</div>"
      ],
      "text/plain": [
       "      Total\n",
       "1008  176.0\n",
       "1013  182.2\n",
       "1014  171.3\n",
       "1015  182.9\n",
       "1017  189.6\n",
       "1019  168.9\n",
       "1020  172.1\n",
       "1021  167.9\n",
       "1027  190.8\n",
       "1029  176.7\n",
       "1031  148.4\n",
       "1036  177.6\n",
       "1037  161.5"
      ]
     },
     "execution_count": 108,
     "metadata": {},
     "output_type": "execute_result"
    }
   ],
   "source": [
    "df=pd.DataFrame(olympaid_event,columns=[\"Total\"])\n",
    "df\n"
   ]
  },
  {
   "cell_type": "code",
   "execution_count": 109,
   "id": "31a5b696",
   "metadata": {},
   "outputs": [
    {
     "name": "stdout",
     "output_type": "stream",
     "text": [
      "this is the detail of the qualified student with highest scorer :\n",
      "\n"
     ]
    },
    {
     "data": {
      "text/plain": [
       "1027    190.8\n",
       "dtype: float64"
      ]
     },
     "execution_count": 109,
     "metadata": {},
     "output_type": "execute_result"
    }
   ],
   "source": [
    "print('this is the detail of the qualified student with highest scorer :\\n')\n",
    "df=olympaid_event.sort_values(ascending=False).index[:1]\n",
    "df=olympaid_event.sort_values(ascending=False)[0:1]\n",
    "df"
   ]
  },
  {
   "cell_type": "code",
   "execution_count": 117,
   "id": "7974c627",
   "metadata": {},
   "outputs": [
    {
     "name": "stdout",
     "output_type": "stream",
     "text": [
      "this is the detail of the qualified student with lowest scorer :\n",
      "\n"
     ]
    },
    {
     "data": {
      "text/plain": [
       "1031    148.4\n",
       "dtype: float64"
      ]
     },
     "execution_count": 117,
     "metadata": {},
     "output_type": "execute_result"
    }
   ],
   "source": [
    "print('this is the detail of the qualified student with lowest scorer :\\n')\n",
    "df=olympaid_event.sort_values(ascending=True).index[:1]\n",
    "df=olympaid_event.sort_values(ascending=True)[0:1]\n",
    "df"
   ]
  },
  {
   "cell_type": "code",
   "execution_count": null,
   "id": "0e61d3b1",
   "metadata": {},
   "outputs": [],
   "source": []
  }
 ],
 "metadata": {
  "kernelspec": {
   "display_name": "Python 3 (ipykernel)",
   "language": "python",
   "name": "python3"
  },
  "language_info": {
   "codemirror_mode": {
    "name": "ipython",
    "version": 3
   },
   "file_extension": ".py",
   "mimetype": "text/x-python",
   "name": "python",
   "nbconvert_exporter": "python",
   "pygments_lexer": "ipython3",
   "version": "3.9.13"
  }
 },
 "nbformat": 4,
 "nbformat_minor": 5
}
